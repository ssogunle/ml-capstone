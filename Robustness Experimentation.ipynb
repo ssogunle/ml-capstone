{
 "cells": [
  {
   "cell_type": "code",
   "execution_count": 1,
   "metadata": {},
   "outputs": [
    {
     "name": "stderr",
     "output_type": "stream",
     "text": [
      "Using TensorFlow backend.\n"
     ]
    }
   ],
   "source": [
    "import numpy as np\n",
    "import pandas as pd\n",
    "import json\n",
    "\n",
    "from IPython.display import display\n",
    "\n",
    "import matplotlib.pyplot as plt\n",
    "%matplotlib inline\n",
    "\n",
    "#Sklearn tools\n",
    "from sklearn.decomposition import PCA\n",
    "from sklearn.model_selection import train_test_split\n",
    "from sklearn.linear_model import LogisticRegression\n",
    "from sklearn.metrics import confusion_matrix\n",
    "\n",
    "#keras\n",
    "from keras.utils.np_utils import to_categorical\n",
    "\n",
    "# Import supplementary visualizations code visuals.py\n",
    "import visuals as vs\n",
    "\n",
    "# util\n",
    "import importlib\n",
    "import plot_util # Make predictions\n",
    "from eval_metrics import EvalMetrics\n",
    "\n",
    "\n",
    "# For final model\n",
    "from keras.models import Sequential\n",
    "from keras.layers import Dropout, Dense, Activation\n",
    "from FFClassifier import FFClassifier as FFC\n",
    "import importlib\n"
   ]
  },
  {
   "cell_type": "markdown",
   "metadata": {},
   "source": [
    "# 1. Load Data"
   ]
  },
  {
   "cell_type": "code",
   "execution_count": 2,
   "metadata": {},
   "outputs": [],
   "source": [
    "# Load unseen dataset\n",
    "cdr_6 = pd.read_csv('data/sms-call-internet-mi-2013-11-06.csv')"
   ]
  },
  {
   "cell_type": "code",
   "execution_count": 3,
   "metadata": {},
   "outputs": [
    {
     "name": "stdout",
     "output_type": "stream",
     "text": [
      "Dataset length:  2417156\n"
     ]
    },
    {
     "data": {
      "text/html": [
       "<div>\n",
       "<style scoped>\n",
       "    .dataframe tbody tr th:only-of-type {\n",
       "        vertical-align: middle;\n",
       "    }\n",
       "\n",
       "    .dataframe tbody tr th {\n",
       "        vertical-align: top;\n",
       "    }\n",
       "\n",
       "    .dataframe thead th {\n",
       "        text-align: right;\n",
       "    }\n",
       "</style>\n",
       "<table border=\"1\" class=\"dataframe\">\n",
       "  <thead>\n",
       "    <tr style=\"text-align: right;\">\n",
       "      <th></th>\n",
       "      <th>datetime</th>\n",
       "      <th>CellID</th>\n",
       "      <th>countrycode</th>\n",
       "      <th>smsin</th>\n",
       "      <th>smsout</th>\n",
       "      <th>callin</th>\n",
       "      <th>callout</th>\n",
       "      <th>internet</th>\n",
       "    </tr>\n",
       "  </thead>\n",
       "  <tbody>\n",
       "    <tr>\n",
       "      <th>0</th>\n",
       "      <td>2013-11-06 00:00:00</td>\n",
       "      <td>1</td>\n",
       "      <td>0</td>\n",
       "      <td>0.0814</td>\n",
       "      <td>NaN</td>\n",
       "      <td>NaN</td>\n",
       "      <td>NaN</td>\n",
       "      <td>NaN</td>\n",
       "    </tr>\n",
       "    <tr>\n",
       "      <th>1</th>\n",
       "      <td>2013-11-06 00:00:00</td>\n",
       "      <td>1</td>\n",
       "      <td>39</td>\n",
       "      <td>0.7458</td>\n",
       "      <td>0.7204</td>\n",
       "      <td>0.1626</td>\n",
       "      <td>0.1057</td>\n",
       "      <td>52.3219</td>\n",
       "    </tr>\n",
       "    <tr>\n",
       "      <th>2</th>\n",
       "      <td>2013-11-06 00:00:00</td>\n",
       "      <td>2</td>\n",
       "      <td>0</td>\n",
       "      <td>0.0829</td>\n",
       "      <td>NaN</td>\n",
       "      <td>NaN</td>\n",
       "      <td>NaN</td>\n",
       "      <td>NaN</td>\n",
       "    </tr>\n",
       "    <tr>\n",
       "      <th>3</th>\n",
       "      <td>2013-11-06 00:00:00</td>\n",
       "      <td>2</td>\n",
       "      <td>39</td>\n",
       "      <td>0.7653</td>\n",
       "      <td>0.7409</td>\n",
       "      <td>0.1639</td>\n",
       "      <td>0.1094</td>\n",
       "      <td>52.4064</td>\n",
       "    </tr>\n",
       "    <tr>\n",
       "      <th>4</th>\n",
       "      <td>2013-11-06 00:00:00</td>\n",
       "      <td>3</td>\n",
       "      <td>0</td>\n",
       "      <td>0.0846</td>\n",
       "      <td>NaN</td>\n",
       "      <td>NaN</td>\n",
       "      <td>NaN</td>\n",
       "      <td>NaN</td>\n",
       "    </tr>\n",
       "  </tbody>\n",
       "</table>\n",
       "</div>"
      ],
      "text/plain": [
       "              datetime  CellID  countrycode   smsin  smsout  callin  callout  \\\n",
       "0  2013-11-06 00:00:00       1            0  0.0814     NaN     NaN      NaN   \n",
       "1  2013-11-06 00:00:00       1           39  0.7458  0.7204  0.1626   0.1057   \n",
       "2  2013-11-06 00:00:00       2            0  0.0829     NaN     NaN      NaN   \n",
       "3  2013-11-06 00:00:00       2           39  0.7653  0.7409  0.1639   0.1094   \n",
       "4  2013-11-06 00:00:00       3            0  0.0846     NaN     NaN      NaN   \n",
       "\n",
       "   internet  \n",
       "0       NaN  \n",
       "1   52.3219  \n",
       "2       NaN  \n",
       "3   52.4064  \n",
       "4       NaN  "
      ]
     },
     "execution_count": 3,
     "metadata": {},
     "output_type": "execute_result"
    }
   ],
   "source": [
    "print(\"Dataset length: \",len(cdr_6))\n",
    "cdr_6.head()"
   ]
  },
  {
   "cell_type": "markdown",
   "metadata": {},
   "source": [
    "# 2. Clean Data"
   ]
  },
  {
   "cell_type": "code",
   "execution_count": 4,
   "metadata": {},
   "outputs": [],
   "source": [
    "# drop irrelevant features\n",
    "cdr_6 = cdr_6.drop(['datetime'], axis=1)"
   ]
  },
  {
   "cell_type": "code",
   "execution_count": 5,
   "metadata": {},
   "outputs": [],
   "source": [
    "# drop NaN records\n",
    "cdr_6 = cdr_6.dropna(axis=0)"
   ]
  },
  {
   "cell_type": "code",
   "execution_count": 6,
   "metadata": {},
   "outputs": [
    {
     "name": "stdout",
     "output_type": "stream",
     "text": [
      "Dataset length:  231428\n"
     ]
    },
    {
     "data": {
      "text/html": [
       "<div>\n",
       "<style scoped>\n",
       "    .dataframe tbody tr th:only-of-type {\n",
       "        vertical-align: middle;\n",
       "    }\n",
       "\n",
       "    .dataframe tbody tr th {\n",
       "        vertical-align: top;\n",
       "    }\n",
       "\n",
       "    .dataframe thead th {\n",
       "        text-align: right;\n",
       "    }\n",
       "</style>\n",
       "<table border=\"1\" class=\"dataframe\">\n",
       "  <thead>\n",
       "    <tr style=\"text-align: right;\">\n",
       "      <th></th>\n",
       "      <th>CellID</th>\n",
       "      <th>countrycode</th>\n",
       "      <th>smsin</th>\n",
       "      <th>smsout</th>\n",
       "      <th>callin</th>\n",
       "      <th>callout</th>\n",
       "      <th>internet</th>\n",
       "    </tr>\n",
       "  </thead>\n",
       "  <tbody>\n",
       "    <tr>\n",
       "      <th>1</th>\n",
       "      <td>1</td>\n",
       "      <td>39</td>\n",
       "      <td>0.7458</td>\n",
       "      <td>0.7204</td>\n",
       "      <td>0.1626</td>\n",
       "      <td>0.1057</td>\n",
       "      <td>52.3219</td>\n",
       "    </tr>\n",
       "    <tr>\n",
       "      <th>3</th>\n",
       "      <td>2</td>\n",
       "      <td>39</td>\n",
       "      <td>0.7653</td>\n",
       "      <td>0.7409</td>\n",
       "      <td>0.1639</td>\n",
       "      <td>0.1094</td>\n",
       "      <td>52.4064</td>\n",
       "    </tr>\n",
       "    <tr>\n",
       "      <th>5</th>\n",
       "      <td>3</td>\n",
       "      <td>39</td>\n",
       "      <td>0.7861</td>\n",
       "      <td>0.7628</td>\n",
       "      <td>0.1652</td>\n",
       "      <td>0.1133</td>\n",
       "      <td>52.4964</td>\n",
       "    </tr>\n",
       "    <tr>\n",
       "      <th>7</th>\n",
       "      <td>4</td>\n",
       "      <td>39</td>\n",
       "      <td>0.6893</td>\n",
       "      <td>0.6608</td>\n",
       "      <td>0.1591</td>\n",
       "      <td>0.0951</td>\n",
       "      <td>52.0770</td>\n",
       "    </tr>\n",
       "    <tr>\n",
       "      <th>9</th>\n",
       "      <td>5</td>\n",
       "      <td>39</td>\n",
       "      <td>0.6345</td>\n",
       "      <td>0.6198</td>\n",
       "      <td>0.1400</td>\n",
       "      <td>0.0918</td>\n",
       "      <td>47.0682</td>\n",
       "    </tr>\n",
       "  </tbody>\n",
       "</table>\n",
       "</div>"
      ],
      "text/plain": [
       "   CellID  countrycode   smsin  smsout  callin  callout  internet\n",
       "1       1           39  0.7458  0.7204  0.1626   0.1057   52.3219\n",
       "3       2           39  0.7653  0.7409  0.1639   0.1094   52.4064\n",
       "5       3           39  0.7861  0.7628  0.1652   0.1133   52.4964\n",
       "7       4           39  0.6893  0.6608  0.1591   0.0951   52.0770\n",
       "9       5           39  0.6345  0.6198  0.1400   0.0918   47.0682"
      ]
     },
     "execution_count": 6,
     "metadata": {},
     "output_type": "execute_result"
    }
   ],
   "source": [
    "print(\"Dataset length: \",len(cdr_6))\n",
    "cdr_6.head()"
   ]
  },
  {
   "cell_type": "markdown",
   "metadata": {},
   "source": [
    "# 3. Normalize and Reduce Data Dimension"
   ]
  },
  {
   "cell_type": "code",
   "execution_count": 7,
   "metadata": {},
   "outputs": [],
   "source": [
    "# Scale data \n",
    "non_zero_constant = 1\n",
    "log_data = np.log(cdr_6 + non_zero_constant)"
   ]
  },
  {
   "cell_type": "code",
   "execution_count": 8,
   "metadata": {},
   "outputs": [],
   "source": [
    "# apply PCA\n",
    "\n",
    "pca = PCA(n_components=3)\n",
    "pca = pca.fit(log_data)\n",
    "\n",
    "# Transform the log data using the PCA fit above\n",
    "reduced_data = pca.transform(log_data)\n",
    "\n",
    "# Create a DataFrame for the reduced data\n",
    "reduced_data = pd.DataFrame(reduced_data, columns = ['Dimension 1', 'Dimension 2',  'Dimension 3'])"
   ]
  },
  {
   "cell_type": "markdown",
   "metadata": {},
   "source": [
    "# 4. Create Clusters"
   ]
  },
  {
   "cell_type": "code",
   "execution_count": 9,
   "metadata": {},
   "outputs": [],
   "source": [
    "# create clusters\n",
    "from sklearn.mixture import GaussianMixture\n",
    "from sklearn.metrics import silhouette_score\n",
    "\n",
    "def do_clustering(k, _sample_size):\n",
    "    global clusterer, preds, centers, score\n",
    "    # Apply your clustering algorithm of choice to the reduced data \n",
    "    clusterer = GaussianMixture(n_components=k, random_state=42).fit(reduced_data)\n",
    "\n",
    "    # Predict the cluster for each data point\n",
    "    preds = clusterer.predict(reduced_data)\n",
    "\n",
    "    # Find the cluster centers\n",
    "    centers = clusterer.means_\n",
    "\n",
    "    # Calculate the mean silhouette coefficient for the number of clusters chosen\n",
    "    score = silhouette_score(reduced_data, preds, sample_size =_sample_size)\n",
    "    \n",
    "    print(\"For k = {}, silhouette_score = {}\".format(k,score))"
   ]
  },
  {
   "cell_type": "code",
   "execution_count": 10,
   "metadata": {},
   "outputs": [
    {
     "name": "stdout",
     "output_type": "stream",
     "text": [
      "For k = 2, silhouette_score = 0.3942986055312106\n"
     ]
    }
   ],
   "source": [
    "do_clustering(2, 20000)"
   ]
  },
  {
   "cell_type": "markdown",
   "metadata": {},
   "source": [
    "# 5. Display Clustering Result"
   ]
  },
  {
   "cell_type": "code",
   "execution_count": 11,
   "metadata": {},
   "outputs": [
    {
     "data": {
      "image/png": "[encoded data removed]",
      "text/plain": [
       "<matplotlib.figure.Figure at 0x7f42773de2e8>"
      ]
     },
     "metadata": {
      "needs_background": "light"
     },
     "output_type": "display_data"
    }
   ],
   "source": [
    "vs.cluster_results(reduced_data, preds, centers, None)"
   ]
  },
  {
   "cell_type": "markdown",
   "metadata": {},
   "source": [
    "# 6. Recover Data"
   ]
  },
  {
   "cell_type": "code",
   "execution_count": 12,
   "metadata": {},
   "outputs": [
    {
     "data": {
      "text/html": [
       "<div>\n",
       "<style scoped>\n",
       "    .dataframe tbody tr th:only-of-type {\n",
       "        vertical-align: middle;\n",
       "    }\n",
       "\n",
       "    .dataframe tbody tr th {\n",
       "        vertical-align: top;\n",
       "    }\n",
       "\n",
       "    .dataframe thead th {\n",
       "        text-align: right;\n",
       "    }\n",
       "</style>\n",
       "<table border=\"1\" class=\"dataframe\">\n",
       "  <thead>\n",
       "    <tr style=\"text-align: right;\">\n",
       "      <th></th>\n",
       "      <th>CellID</th>\n",
       "      <th>countrycode</th>\n",
       "      <th>smsin</th>\n",
       "      <th>smsout</th>\n",
       "      <th>callin</th>\n",
       "      <th>callout</th>\n",
       "      <th>internet</th>\n",
       "    </tr>\n",
       "  </thead>\n",
       "  <tbody>\n",
       "    <tr>\n",
       "      <th>Cluster 0</th>\n",
       "      <td>5597.0</td>\n",
       "      <td>39.0</td>\n",
       "      <td>24.0</td>\n",
       "      <td>18.0</td>\n",
       "      <td>24.0</td>\n",
       "      <td>26.0</td>\n",
       "      <td>388.0</td>\n",
       "    </tr>\n",
       "    <tr>\n",
       "      <th>Cluster 1</th>\n",
       "      <td>2588.0</td>\n",
       "      <td>39.0</td>\n",
       "      <td>2.0</td>\n",
       "      <td>2.0</td>\n",
       "      <td>2.0</td>\n",
       "      <td>2.0</td>\n",
       "      <td>78.0</td>\n",
       "    </tr>\n",
       "  </tbody>\n",
       "</table>\n",
       "</div>"
      ],
      "text/plain": [
       "           CellID  countrycode  smsin  smsout  callin  callout  internet\n",
       "Cluster 0  5597.0         39.0   24.0    18.0    24.0     26.0     388.0\n",
       "Cluster 1  2588.0         39.0    2.0     2.0     2.0      2.0      78.0"
      ]
     },
     "metadata": {},
     "output_type": "display_data"
    }
   ],
   "source": [
    "# Define Centroids\n",
    "log_centers = pca.inverse_transform(centers)\n",
    "\n",
    "# Exponentiate the centers\n",
    "true_centers = np.exp(log_centers) - non_zero_constant\n",
    "\n",
    "# Display the true centers\n",
    "segments = ['Cluster {}'.format(i) for i in range(0,len(centers))]\n",
    "true_centers = pd.DataFrame(np.round(true_centers), columns =cdr_6.keys())\n",
    "true_centers.index = segments\n",
    "display(true_centers)"
   ]
  },
  {
   "cell_type": "code",
   "execution_count": 13,
   "metadata": {},
   "outputs": [
    {
     "name": "stdout",
     "output_type": "stream",
     "text": [
      "231428\n",
      "231428\n"
     ]
    }
   ],
   "source": [
    "nan_records = [ p  for p in preds if p is None]\n",
    "zeros =  [ p  for p in preds if p == 0]\n",
    "ones =  [ p  for p in preds if p == 1]\n",
    "\n",
    "# Very that all records have predictions\n",
    "print(len(preds))\n",
    "print(len(ones)+len(zeros))"
   ]
  },
  {
   "cell_type": "code",
   "execution_count": 14,
   "metadata": {},
   "outputs": [
    {
     "name": "stdout",
     "output_type": "stream",
     "text": [
      "231428\n",
      "231428\n"
     ]
    }
   ],
   "source": [
    "### Extract label data\n",
    "\n",
    "# Change label IDs for training purposes\n",
    "# 1 == Likely Customers\n",
    "# 0 == Unlikely Customers\n",
    "flipped_preds = [ p^1 for p in preds]\n",
    "zeros =  [ p  for p in flipped_preds if p == 0]\n",
    "ones =  [ p  for p in flipped_preds if p == 1]\n",
    "\n",
    "# Verify that all records have predictions\n",
    "print(len(flipped_preds))\n",
    "print(len(ones)+len(zeros))\n"
   ]
  },
  {
   "cell_type": "code",
   "execution_count": 15,
   "metadata": {},
   "outputs": [
    {
     "data": {
      "text/html": [
       "<div>\n",
       "<style scoped>\n",
       "    .dataframe tbody tr th:only-of-type {\n",
       "        vertical-align: middle;\n",
       "    }\n",
       "\n",
       "    .dataframe tbody tr th {\n",
       "        vertical-align: top;\n",
       "    }\n",
       "\n",
       "    .dataframe thead th {\n",
       "        text-align: right;\n",
       "    }\n",
       "</style>\n",
       "<table border=\"1\" class=\"dataframe\">\n",
       "  <thead>\n",
       "    <tr style=\"text-align: right;\">\n",
       "      <th></th>\n",
       "      <th>CellID</th>\n",
       "      <th>countrycode</th>\n",
       "      <th>smsin</th>\n",
       "      <th>smsout</th>\n",
       "      <th>callin</th>\n",
       "      <th>callout</th>\n",
       "      <th>internet</th>\n",
       "      <th>label</th>\n",
       "    </tr>\n",
       "  </thead>\n",
       "  <tbody>\n",
       "    <tr>\n",
       "      <th>2832</th>\n",
       "      <td>6.637258</td>\n",
       "      <td>3.688879</td>\n",
       "      <td>0.813593</td>\n",
       "      <td>1.285894</td>\n",
       "      <td>0.631644</td>\n",
       "      <td>0.500715</td>\n",
       "      <td>5.383246</td>\n",
       "      <td>1.0</td>\n",
       "    </tr>\n",
       "    <tr>\n",
       "      <th>2931</th>\n",
       "      <td>6.669498</td>\n",
       "      <td>3.688879</td>\n",
       "      <td>0.083238</td>\n",
       "      <td>0.073622</td>\n",
       "      <td>0.099212</td>\n",
       "      <td>0.064945</td>\n",
       "      <td>2.756618</td>\n",
       "      <td>1.0</td>\n",
       "    </tr>\n",
       "    <tr>\n",
       "      <th>3028</th>\n",
       "      <td>6.701960</td>\n",
       "      <td>3.688879</td>\n",
       "      <td>0.223623</td>\n",
       "      <td>0.109572</td>\n",
       "      <td>0.020097</td>\n",
       "      <td>0.141152</td>\n",
       "      <td>3.039711</td>\n",
       "      <td>1.0</td>\n",
       "    </tr>\n",
       "    <tr>\n",
       "      <th>3125</th>\n",
       "      <td>6.739337</td>\n",
       "      <td>3.688879</td>\n",
       "      <td>0.437351</td>\n",
       "      <td>2.677735</td>\n",
       "      <td>0.342312</td>\n",
       "      <td>0.380626</td>\n",
       "      <td>4.643667</td>\n",
       "      <td>1.0</td>\n",
       "    </tr>\n",
       "    <tr>\n",
       "      <th>3218</th>\n",
       "      <td>6.766192</td>\n",
       "      <td>3.688879</td>\n",
       "      <td>1.971369</td>\n",
       "      <td>1.644438</td>\n",
       "      <td>0.837853</td>\n",
       "      <td>0.725324</td>\n",
       "      <td>5.831269</td>\n",
       "      <td>1.0</td>\n",
       "    </tr>\n",
       "  </tbody>\n",
       "</table>\n",
       "</div>"
      ],
      "text/plain": [
       "        CellID  countrycode     smsin    smsout    callin   callout  internet  \\\n",
       "2832  6.637258     3.688879  0.813593  1.285894  0.631644  0.500715  5.383246   \n",
       "2931  6.669498     3.688879  0.083238  0.073622  0.099212  0.064945  2.756618   \n",
       "3028  6.701960     3.688879  0.223623  0.109572  0.020097  0.141152  3.039711   \n",
       "3125  6.739337     3.688879  0.437351  2.677735  0.342312  0.380626  4.643667   \n",
       "3218  6.766192     3.688879  1.971369  1.644438  0.837853  0.725324  5.831269   \n",
       "\n",
       "      label  \n",
       "2832    1.0  \n",
       "2931    1.0  \n",
       "3028    1.0  \n",
       "3125    1.0  \n",
       "3218    1.0  "
      ]
     },
     "execution_count": 15,
     "metadata": {},
     "output_type": "execute_result"
    }
   ],
   "source": [
    "# Store labels\n",
    "label = pd.Series(flipped_preds)\n",
    "log_data['label'] = label\n",
    "log_data[log_data.label == 1].head()"
   ]
  },
  {
   "cell_type": "code",
   "execution_count": 16,
   "metadata": {},
   "outputs": [],
   "source": [
    "#reverse log_data\n",
    "original_data = log_data.drop(['label'], axis=1)\n",
    "original_data = np.exp(original_data) - non_zero_constant\n",
    "#original_data['label'] = label\n",
    "#original_data[original_data.label ==1].head(n=25)\n",
    "\n",
    "\n",
    "\n"
   ]
  },
  {
   "cell_type": "markdown",
   "metadata": {},
   "source": [
    "# 7. Load Hybrid Model From Checkpoint"
   ]
  },
  {
   "cell_type": "code",
   "execution_count": 17,
   "metadata": {},
   "outputs": [
    {
     "name": "stdout",
     "output_type": "stream",
     "text": [
      "_________________________________________________________________\n",
      "Layer (type)                 Output Shape              Param #   \n",
      "=================================================================\n",
      "dense_1 (Dense)              (None, 64)                512       \n",
      "_________________________________________________________________\n",
      "activation_1 (Activation)    (None, 64)                0         \n",
      "_________________________________________________________________\n",
      "dropout_1 (Dropout)          (None, 64)                0         \n",
      "_________________________________________________________________\n",
      "dense_2 (Dense)              (None, 32)                2080      \n",
      "_________________________________________________________________\n",
      "activation_2 (Activation)    (None, 32)                0         \n",
      "_________________________________________________________________\n",
      "dropout_2 (Dropout)          (None, 32)                0         \n",
      "_________________________________________________________________\n",
      "dense_3 (Dense)              (None, 2)                 66        \n",
      "_________________________________________________________________\n",
      "activation_3 (Activation)    (None, 2)                 0         \n",
      "=================================================================\n",
      "Total params: 2,658\n",
      "Trainable params: 2,658\n",
      "Non-trainable params: 0\n",
      "_________________________________________________________________\n"
     ]
    }
   ],
   "source": [
    "# params\n",
    "_input_dims = 7\n",
    "_num_classes = 2\n",
    "_dropout = 0.2\n",
    "inp_dim = 7\n",
    "optimizer = 'Adam' \n",
    "loss = 'categorical_crossentropy'\n",
    "metrics = ['accuracy']\n",
    "checkpoint = 'saved_models/hybrid_model.ckpt'\n",
    "\n",
    "# model structure\n",
    "ffclassifier = FFC(None,None,None,None, _num_classes,_dropout)\n",
    "ffclassifier.create_model(inp_dim)\n",
    "ffclassifier.model.load_weights('saved_models/hybrid_model.ckpt')\n"
   ]
  },
  {
   "cell_type": "markdown",
   "metadata": {},
   "source": [
    "# 8. Make Predictions On Unseen Data"
   ]
  },
  {
   "cell_type": "code",
   "execution_count": 18,
   "metadata": {},
   "outputs": [],
   "source": [
    "# Split unseen data\n",
    "# Separate target (y) and independent variables (X)\n",
    "X = original_data.iloc[:,:7].values\n",
    "y = np.array(flipped_preds)"
   ]
  },
  {
   "cell_type": "code",
   "execution_count": 19,
   "metadata": {},
   "outputs": [],
   "source": [
    "# Predict\n",
    "_preds = ffclassifier.model.predict(X) \n",
    "hybrid_preds = np.argmax(_preds, axis=1)\n"
   ]
  },
  {
   "cell_type": "markdown",
   "metadata": {},
   "source": [
    "# 9. Plot Confusion Matrix"
   ]
  },
  {
   "cell_type": "code",
   "execution_count": 23,
   "metadata": {},
   "outputs": [
    {
     "name": "stdout",
     "output_type": "stream",
     "text": [
      "Confusion matrix, without normalization\n",
      "[[106833  11280]\n",
      " [  1617 111698]]\n"
     ]
    },
    {
     "data": {
      "image/png": "[encoded data removed]",
      "text/plain": [
       "<matplotlib.figure.Figure at 0x7f427134bf98>"
      ]
     },
     "metadata": {
      "needs_background": "light"
     },
     "output_type": "display_data"
    }
   ],
   "source": [
    "_, cm_hybrid = plot_util.plot_confusion_matrix(y, hybrid_preds, classes=np.array([1,0]), \n",
    "                                        title=\"Confusion Matrix for Hybrid Model (With Robustness-test)\")"
   ]
  },
  {
   "cell_type": "markdown",
   "metadata": {},
   "source": [
    "From the Matrix Above:\n",
    "\n",
    "- True Positive (TP) = 106833\n",
    "- False Positive (FP) = 1617\n",
    "- True Negative (TN) =  111698\n",
    "- False Negative (FN) =  11280"
   ]
  },
  {
   "cell_type": "code",
   "execution_count": 21,
   "metadata": {},
   "outputs": [
    {
     "name": "stdout",
     "output_type": "stream",
     "text": [
      "Accuracy = 94.43%\n",
      "Precision = 98.51%\n",
      "Recall = 90.45%\n",
      "F1-Score = 94.31%\n",
      "\n"
     ]
    }
   ],
   "source": [
    "# Compute Eval Metrics\n",
    "\n",
    "hybrid_metrics = EvalMetrics(cm_hybrid[0][0], cm_hybrid[1][0], cm_hybrid[1][1], cm_hybrid[0][1])\n",
    "\n",
    "print(\"Accuracy = {:.2f}%\\nPrecision = {:.2f}%\\nRecall = {:.2f}%\\nF1-Score = {:.2f}%\\n\"\n",
    "      .format(100*hybrid_metrics.get_accuracy(), 100*hybrid_metrics.get_precision(),\n",
    "       100*hybrid_metrics.get_recall(), 100*hybrid_metrics.get_f1_score()))\n"
   ]
  },
  {
   "cell_type": "code",
   "execution_count": 22,
   "metadata": {},
   "outputs": [],
   "source": [
    "\n",
    "#importlib.reload(eval_metrics)"
   ]
  }
 ],
 "metadata": {
  "kernelspec": {
   "display_name": "Python 3",
   "language": "python",
   "name": "python3"
  },
  "language_info": {
   "codemirror_mode": {
    "name": "ipython",
    "version": 3
   },
   "file_extension": ".py",
   "mimetype": "text/x-python",
   "name": "python",
   "nbconvert_exporter": "python",
   "pygments_lexer": "ipython3",
   "version": "3.6.3"
  }
 },
 "nbformat": 4,
 "nbformat_minor": 2
}
