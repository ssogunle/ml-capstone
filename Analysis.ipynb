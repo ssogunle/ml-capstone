{
 "cells": [
  {
   "cell_type": "code",
   "execution_count": 1,
   "metadata": {},
   "outputs": [],
   "source": [
    "import numpy as np\n",
    "import pandas as pd\n",
    "import json\n",
    "\n",
    "from IPython.display import display\n",
    "\n",
    "import matplotlib.pyplot as plt\n",
    "%matplotlib inline"
   ]
  },
  {
   "cell_type": "markdown",
   "metadata": {},
   "source": [
    "# 1. Data Exploration"
   ]
  },
  {
   "cell_type": "code",
   "execution_count": 2,
   "metadata": {},
   "outputs": [],
   "source": [
    "### Import Data Set\n",
    "def_cdr_1 = pd.read_csv('data/sms-call-internet-mi-2013-11-01.csv')"
   ]
  },
  {
   "cell_type": "code",
   "execution_count": 3,
   "metadata": {},
   "outputs": [
    {
     "data": {
      "text/html": [
       "<div>\n",
       "<style>\n",
       "    .dataframe thead tr:only-child th {\n",
       "        text-align: right;\n",
       "    }\n",
       "\n",
       "    .dataframe thead th {\n",
       "        text-align: left;\n",
       "    }\n",
       "\n",
       "    .dataframe tbody tr th {\n",
       "        vertical-align: top;\n",
       "    }\n",
       "</style>\n",
       "<table border=\"1\" class=\"dataframe\">\n",
       "  <thead>\n",
       "    <tr style=\"text-align: right;\">\n",
       "      <th></th>\n",
       "      <th>CellID</th>\n",
       "      <th>countrycode</th>\n",
       "      <th>smsin</th>\n",
       "      <th>smsout</th>\n",
       "      <th>callin</th>\n",
       "      <th>callout</th>\n",
       "      <th>internet</th>\n",
       "    </tr>\n",
       "  </thead>\n",
       "  <tbody>\n",
       "    <tr>\n",
       "      <th>count</th>\n",
       "      <td>1.891928e+06</td>\n",
       "      <td>1.891928e+06</td>\n",
       "      <td>805775.000000</td>\n",
       "      <td>469482.000000</td>\n",
       "      <td>484147.000000</td>\n",
       "      <td>854515.000000</td>\n",
       "      <td>804854.000000</td>\n",
       "    </tr>\n",
       "    <tr>\n",
       "      <th>mean</th>\n",
       "      <td>5.277812e+03</td>\n",
       "      <td>3.538213e+02</td>\n",
       "      <td>5.716717</td>\n",
       "      <td>6.011796</td>\n",
       "      <td>5.417363</td>\n",
       "      <td>3.741025</td>\n",
       "      <td>102.477277</td>\n",
       "    </tr>\n",
       "    <tr>\n",
       "      <th>std</th>\n",
       "      <td>2.719573e+03</td>\n",
       "      <td>4.287521e+03</td>\n",
       "      <td>15.503784</td>\n",
       "      <td>16.953823</td>\n",
       "      <td>15.915312</td>\n",
       "      <td>13.986531</td>\n",
       "      <td>342.024253</td>\n",
       "    </tr>\n",
       "    <tr>\n",
       "      <th>min</th>\n",
       "      <td>1.000000e+00</td>\n",
       "      <td>0.000000e+00</td>\n",
       "      <td>0.000000</td>\n",
       "      <td>0.000000</td>\n",
       "      <td>0.000000</td>\n",
       "      <td>0.000000</td>\n",
       "      <td>0.000000</td>\n",
       "    </tr>\n",
       "    <tr>\n",
       "      <th>25%</th>\n",
       "      <td>3.153000e+03</td>\n",
       "      <td>3.300000e+01</td>\n",
       "      <td>0.129300</td>\n",
       "      <td>0.109600</td>\n",
       "      <td>0.075200</td>\n",
       "      <td>0.060700</td>\n",
       "      <td>0.058300</td>\n",
       "    </tr>\n",
       "    <tr>\n",
       "      <th>50%</th>\n",
       "      <td>5.387000e+03</td>\n",
       "      <td>4.100000e+01</td>\n",
       "      <td>0.772400</td>\n",
       "      <td>0.755200</td>\n",
       "      <td>0.385000</td>\n",
       "      <td>0.236900</td>\n",
       "      <td>0.230200</td>\n",
       "    </tr>\n",
       "    <tr>\n",
       "      <th>75%</th>\n",
       "      <td>7.492000e+03</td>\n",
       "      <td>8.600000e+01</td>\n",
       "      <td>4.468400</td>\n",
       "      <td>4.627375</td>\n",
       "      <td>3.179100</td>\n",
       "      <td>1.206000</td>\n",
       "      <td>42.447725</td>\n",
       "    </tr>\n",
       "    <tr>\n",
       "      <th>max</th>\n",
       "      <td>1.000000e+04</td>\n",
       "      <td>9.725900e+04</td>\n",
       "      <td>1109.082000</td>\n",
       "      <td>1577.903800</td>\n",
       "      <td>988.576700</td>\n",
       "      <td>1024.899200</td>\n",
       "      <td>27774.298900</td>\n",
       "    </tr>\n",
       "  </tbody>\n",
       "</table>\n",
       "</div>"
      ],
      "text/plain": [
       "             CellID   countrycode          smsin         smsout  \\\n",
       "count  1.891928e+06  1.891928e+06  805775.000000  469482.000000   \n",
       "mean   5.277812e+03  3.538213e+02       5.716717       6.011796   \n",
       "std    2.719573e+03  4.287521e+03      15.503784      16.953823   \n",
       "min    1.000000e+00  0.000000e+00       0.000000       0.000000   \n",
       "25%    3.153000e+03  3.300000e+01       0.129300       0.109600   \n",
       "50%    5.387000e+03  4.100000e+01       0.772400       0.755200   \n",
       "75%    7.492000e+03  8.600000e+01       4.468400       4.627375   \n",
       "max    1.000000e+04  9.725900e+04    1109.082000    1577.903800   \n",
       "\n",
       "              callin        callout       internet  \n",
       "count  484147.000000  854515.000000  804854.000000  \n",
       "mean        5.417363       3.741025     102.477277  \n",
       "std        15.915312      13.986531     342.024253  \n",
       "min         0.000000       0.000000       0.000000  \n",
       "25%         0.075200       0.060700       0.058300  \n",
       "50%         0.385000       0.236900       0.230200  \n",
       "75%         3.179100       1.206000      42.447725  \n",
       "max       988.576700    1024.899200   27774.298900  "
      ]
     },
     "execution_count": 3,
     "metadata": {},
     "output_type": "execute_result"
    }
   ],
   "source": [
    "# Describe\n",
    "def_cdr_1.describe()"
   ]
  },
  {
   "cell_type": "markdown",
   "metadata": {},
   "source": [
    "## NaN Filtering"
   ]
  },
  {
   "cell_type": "code",
   "execution_count": 4,
   "metadata": {},
   "outputs": [],
   "source": [
    "def records_after(def_cdr, cdr, dataset_id):\n",
    "    len_before, len_after = len(def_cdr), len(cdr)\n",
    "    print(\"Dataset {}: \\t{} out of {} recordsremaining || {:.2f}% decrease.\".format(dataset_id,len_after,len_before, (100*(1- len_after/len_before)))) \n",
    "\n",
    "def remove_nans(def_cdr,dataset_id):\n",
    "    cdr = def_cdr.dropna(axis=0) # Remove records with NaN values\n",
    "    records_after(def_cdr, cdr, dataset_id)\n",
    "    return cdr \n",
    "\n"
   ]
  },
  {
   "cell_type": "code",
   "execution_count": 5,
   "metadata": {},
   "outputs": [],
   "source": [
    "### Import remaining data Set\n",
    "def_cdr_2 = pd.read_csv('data/sms-call-internet-mi-2013-11-02.csv')\n",
    "def_cdr_3 = pd.read_csv('data/sms-call-internet-mi-2013-11-03.csv')\n",
    "def_cdr_4 = pd.read_csv('data/sms-call-internet-mi-2013-11-04.csv')\n",
    "def_cdr_5 = pd.read_csv('data/sms-call-internet-mi-2013-11-05.csv')"
   ]
  },
  {
   "cell_type": "code",
   "execution_count": 6,
   "metadata": {
    "scrolled": true
   },
   "outputs": [
    {
     "name": "stdout",
     "output_type": "stream",
     "text": [
      "Dataset 1: \t233466 out of 1891928 recordsremaining || 87.66% decrease.\n",
      "Dataset 2: \t224381 out of 1847331 recordsremaining || 87.85% decrease.\n",
      "Dataset 3: \t225540 out of 1828063 recordsremaining || 87.66% decrease.\n",
      "Dataset 4: \t227781 out of 2299544 recordsremaining || 90.09% decrease.\n",
      "Dataset 5: \t231063 out of 2397759 recordsremaining || 90.36% decrease.\n"
     ]
    }
   ],
   "source": [
    "# Remove NaN records\n",
    "cdr_1 = remove_nans(def_cdr_1,1)\n",
    "cdr_2 = remove_nans(def_cdr_2,2)\n",
    "cdr_3 = remove_nans(def_cdr_3,3)\n",
    "cdr_4 = remove_nans(def_cdr_4,4)\n",
    "cdr_5 = remove_nans(def_cdr_5,5)"
   ]
  },
  {
   "cell_type": "markdown",
   "metadata": {},
   "source": [
    "## Bar Plot for NaN Removal"
   ]
  },
  {
   "cell_type": "code",
   "execution_count": 7,
   "metadata": {},
   "outputs": [
    {
     "data": {
      "image/png": "[encoded data removed]",
      "text/plain": [
       "<matplotlib.figure.Figure at 0x7f4059340dd8>"
      ]
     },
     "metadata": {
      "needs_background": "light"
     },
     "output_type": "display_data"
    }
   ],
   "source": [
    "N = 5\n",
    "removed_records = [(len(def_cdr_1) - len(cdr_1)),\n",
    "                   (len(def_cdr_2) - len(cdr_2)),\n",
    "                   (len(def_cdr_3) - len(cdr_3)),\n",
    "                   (len(def_cdr_4) - len(cdr_4)),\n",
    "                   (len(def_cdr_5) - len(cdr_5))\n",
    "                  ]\n",
    "retained_records =  [ len(cdr_1), len(cdr_2), len(cdr_3), len(cdr_4), len(cdr_5) ]\n",
    "\n",
    "ind = np.arange(N)    # the x locations for the groups\n",
    "width = 0.35       # the width of the bars: can also be len(x) sequence\n",
    "\n",
    "p1 = plt.bar(ind, retained_records, width)\n",
    "p2 = plt.bar(ind, removed_records, width,\n",
    "             bottom=retained_records)\n",
    "\n",
    "plt.ylabel('Dataset Size')\n",
    "plt.title('Proportional dataset sizes for retained and removed records')\n",
    "plt.xticks(ind, ('Dataset 1', 'Dataset 2', 'Dataset 3', 'Dataset 4', 'Dataset 5'))\n",
    "plt.yticks(np.arange(0, 2500001, 150000))\n",
    "plt.legend((p1[0], p2[0]), ('Retained Records', 'Removed Records'))\n",
    "\n",
    "plt.show()"
   ]
  },
  {
   "cell_type": "markdown",
   "metadata": {},
   "source": [
    "## Dataset Consolidation"
   ]
  },
  {
   "cell_type": "code",
   "execution_count": 8,
   "metadata": {},
   "outputs": [],
   "source": [
    "datasets = [cdr_1, cdr_2, cdr_3, cdr_4, cdr_5]\n",
    "main_dataset = pd.concat(datasets)"
   ]
  },
  {
   "cell_type": "code",
   "execution_count": 9,
   "metadata": {},
   "outputs": [
    {
     "name": "stdout",
     "output_type": "stream",
     "text": [
      "Main dataset length: 1142231\n"
     ]
    },
    {
     "data": {
      "text/html": [
       "<div>\n",
       "<style>\n",
       "    .dataframe thead tr:only-child th {\n",
       "        text-align: right;\n",
       "    }\n",
       "\n",
       "    .dataframe thead th {\n",
       "        text-align: left;\n",
       "    }\n",
       "\n",
       "    .dataframe tbody tr th {\n",
       "        vertical-align: top;\n",
       "    }\n",
       "</style>\n",
       "<table border=\"1\" class=\"dataframe\">\n",
       "  <thead>\n",
       "    <tr style=\"text-align: right;\">\n",
       "      <th></th>\n",
       "      <th>datetime</th>\n",
       "      <th>CellID</th>\n",
       "      <th>countrycode</th>\n",
       "      <th>smsin</th>\n",
       "      <th>smsout</th>\n",
       "      <th>callin</th>\n",
       "      <th>callout</th>\n",
       "      <th>internet</th>\n",
       "    </tr>\n",
       "  </thead>\n",
       "  <tbody>\n",
       "    <tr>\n",
       "      <th>2</th>\n",
       "      <td>2013-11-01 00:00:00</td>\n",
       "      <td>1</td>\n",
       "      <td>39</td>\n",
       "      <td>1.7322</td>\n",
       "      <td>1.1047</td>\n",
       "      <td>0.5919</td>\n",
       "      <td>0.4020</td>\n",
       "      <td>57.7729</td>\n",
       "    </tr>\n",
       "    <tr>\n",
       "      <th>5</th>\n",
       "      <td>2013-11-01 00:00:00</td>\n",
       "      <td>2</td>\n",
       "      <td>39</td>\n",
       "      <td>1.7334</td>\n",
       "      <td>1.0880</td>\n",
       "      <td>0.6020</td>\n",
       "      <td>0.4109</td>\n",
       "      <td>57.8875</td>\n",
       "    </tr>\n",
       "    <tr>\n",
       "      <th>8</th>\n",
       "      <td>2013-11-01 00:00:00</td>\n",
       "      <td>3</td>\n",
       "      <td>39</td>\n",
       "      <td>1.7348</td>\n",
       "      <td>1.0701</td>\n",
       "      <td>0.6128</td>\n",
       "      <td>0.4203</td>\n",
       "      <td>58.0095</td>\n",
       "    </tr>\n",
       "    <tr>\n",
       "      <th>11</th>\n",
       "      <td>2013-11-01 00:00:00</td>\n",
       "      <td>4</td>\n",
       "      <td>39</td>\n",
       "      <td>1.7284</td>\n",
       "      <td>1.1533</td>\n",
       "      <td>0.5627</td>\n",
       "      <td>0.3763</td>\n",
       "      <td>57.4408</td>\n",
       "    </tr>\n",
       "    <tr>\n",
       "      <th>14</th>\n",
       "      <td>2013-11-01 00:00:00</td>\n",
       "      <td>5</td>\n",
       "      <td>39</td>\n",
       "      <td>1.5530</td>\n",
       "      <td>1.0439</td>\n",
       "      <td>0.5110</td>\n",
       "      <td>0.3503</td>\n",
       "      <td>52.1497</td>\n",
       "    </tr>\n",
       "  </tbody>\n",
       "</table>\n",
       "</div>"
      ],
      "text/plain": [
       "               datetime  CellID  countrycode   smsin  smsout  callin  callout  \\\n",
       "2   2013-11-01 00:00:00       1           39  1.7322  1.1047  0.5919   0.4020   \n",
       "5   2013-11-01 00:00:00       2           39  1.7334  1.0880  0.6020   0.4109   \n",
       "8   2013-11-01 00:00:00       3           39  1.7348  1.0701  0.6128   0.4203   \n",
       "11  2013-11-01 00:00:00       4           39  1.7284  1.1533  0.5627   0.3763   \n",
       "14  2013-11-01 00:00:00       5           39  1.5530  1.0439  0.5110   0.3503   \n",
       "\n",
       "    internet  \n",
       "2    57.7729  \n",
       "5    57.8875  \n",
       "8    58.0095  \n",
       "11   57.4408  \n",
       "14   52.1497  "
      ]
     },
     "execution_count": 9,
     "metadata": {},
     "output_type": "execute_result"
    }
   ],
   "source": [
    "print(\"Main dataset length: {}\".format(len(main_dataset)))\n",
    "main_dataset.head()\n"
   ]
  },
  {
   "cell_type": "code",
   "execution_count": 10,
   "metadata": {},
   "outputs": [
    {
     "data": {
      "text/html": [
       "<div>\n",
       "<style>\n",
       "    .dataframe thead tr:only-child th {\n",
       "        text-align: right;\n",
       "    }\n",
       "\n",
       "    .dataframe thead th {\n",
       "        text-align: left;\n",
       "    }\n",
       "\n",
       "    .dataframe tbody tr th {\n",
       "        vertical-align: top;\n",
       "    }\n",
       "</style>\n",
       "<table border=\"1\" class=\"dataframe\">\n",
       "  <thead>\n",
       "    <tr style=\"text-align: right;\">\n",
       "      <th></th>\n",
       "      <th>CellID</th>\n",
       "      <th>countrycode</th>\n",
       "      <th>smsin</th>\n",
       "      <th>smsout</th>\n",
       "      <th>callin</th>\n",
       "      <th>callout</th>\n",
       "      <th>internet</th>\n",
       "    </tr>\n",
       "  </thead>\n",
       "  <tbody>\n",
       "    <tr>\n",
       "      <th>count</th>\n",
       "      <td>1.142231e+06</td>\n",
       "      <td>1.142231e+06</td>\n",
       "      <td>1.142231e+06</td>\n",
       "      <td>1.142231e+06</td>\n",
       "      <td>1.142231e+06</td>\n",
       "      <td>1.142231e+06</td>\n",
       "      <td>1.142231e+06</td>\n",
       "    </tr>\n",
       "    <tr>\n",
       "      <th>mean</th>\n",
       "      <td>5.038771e+03</td>\n",
       "      <td>3.941027e+01</td>\n",
       "      <td>1.732318e+01</td>\n",
       "      <td>1.422045e+01</td>\n",
       "      <td>1.615685e+01</td>\n",
       "      <td>1.822883e+01</td>\n",
       "      <td>3.987732e+02</td>\n",
       "    </tr>\n",
       "    <tr>\n",
       "      <th>std</th>\n",
       "      <td>2.855317e+03</td>\n",
       "      <td>1.624815e+01</td>\n",
       "      <td>3.952457e+01</td>\n",
       "      <td>3.107215e+01</td>\n",
       "      <td>3.804797e+01</td>\n",
       "      <td>4.238201e+01</td>\n",
       "      <td>7.175173e+02</td>\n",
       "    </tr>\n",
       "    <tr>\n",
       "      <th>min</th>\n",
       "      <td>1.000000e+00</td>\n",
       "      <td>0.000000e+00</td>\n",
       "      <td>0.000000e+00</td>\n",
       "      <td>0.000000e+00</td>\n",
       "      <td>0.000000e+00</td>\n",
       "      <td>0.000000e+00</td>\n",
       "      <td>0.000000e+00</td>\n",
       "    </tr>\n",
       "    <tr>\n",
       "      <th>25%</th>\n",
       "      <td>2.607000e+03</td>\n",
       "      <td>3.900000e+01</td>\n",
       "      <td>1.606500e+00</td>\n",
       "      <td>1.522650e+00</td>\n",
       "      <td>9.684000e-01</td>\n",
       "      <td>1.154400e+00</td>\n",
       "      <td>7.022270e+01</td>\n",
       "    </tr>\n",
       "    <tr>\n",
       "      <th>50%</th>\n",
       "      <td>5.075000e+03</td>\n",
       "      <td>3.900000e+01</td>\n",
       "      <td>5.757200e+00</td>\n",
       "      <td>4.953600e+00</td>\n",
       "      <td>4.342700e+00</td>\n",
       "      <td>5.120200e+00</td>\n",
       "      <td>1.823388e+02</td>\n",
       "    </tr>\n",
       "    <tr>\n",
       "      <th>75%</th>\n",
       "      <td>7.484000e+03</td>\n",
       "      <td>3.900000e+01</td>\n",
       "      <td>1.729370e+01</td>\n",
       "      <td>1.411790e+01</td>\n",
       "      <td>1.578040e+01</td>\n",
       "      <td>1.792385e+01</td>\n",
       "      <td>4.208914e+02</td>\n",
       "    </tr>\n",
       "    <tr>\n",
       "      <th>max</th>\n",
       "      <td>1.000000e+04</td>\n",
       "      <td>7.701000e+03</td>\n",
       "      <td>2.143612e+03</td>\n",
       "      <td>2.037669e+03</td>\n",
       "      <td>1.328088e+03</td>\n",
       "      <td>1.511686e+03</td>\n",
       "      <td>3.174863e+04</td>\n",
       "    </tr>\n",
       "  </tbody>\n",
       "</table>\n",
       "</div>"
      ],
      "text/plain": [
       "             CellID   countrycode         smsin        smsout        callin  \\\n",
       "count  1.142231e+06  1.142231e+06  1.142231e+06  1.142231e+06  1.142231e+06   \n",
       "mean   5.038771e+03  3.941027e+01  1.732318e+01  1.422045e+01  1.615685e+01   \n",
       "std    2.855317e+03  1.624815e+01  3.952457e+01  3.107215e+01  3.804797e+01   \n",
       "min    1.000000e+00  0.000000e+00  0.000000e+00  0.000000e+00  0.000000e+00   \n",
       "25%    2.607000e+03  3.900000e+01  1.606500e+00  1.522650e+00  9.684000e-01   \n",
       "50%    5.075000e+03  3.900000e+01  5.757200e+00  4.953600e+00  4.342700e+00   \n",
       "75%    7.484000e+03  3.900000e+01  1.729370e+01  1.411790e+01  1.578040e+01   \n",
       "max    1.000000e+04  7.701000e+03  2.143612e+03  2.037669e+03  1.328088e+03   \n",
       "\n",
       "            callout      internet  \n",
       "count  1.142231e+06  1.142231e+06  \n",
       "mean   1.822883e+01  3.987732e+02  \n",
       "std    4.238201e+01  7.175173e+02  \n",
       "min    0.000000e+00  0.000000e+00  \n",
       "25%    1.154400e+00  7.022270e+01  \n",
       "50%    5.120200e+00  1.823388e+02  \n",
       "75%    1.792385e+01  4.208914e+02  \n",
       "max    1.511686e+03  3.174863e+04  "
      ]
     },
     "execution_count": 10,
     "metadata": {},
     "output_type": "execute_result"
    }
   ],
   "source": [
    "main_dataset.describe()"
   ]
  },
  {
   "cell_type": "code",
   "execution_count": 11,
   "metadata": {},
   "outputs": [],
   "source": [
    "## Save Main Dataset\n",
    "main_dataset.to_csv(path_or_buf=\"data/main_dataset.csv\", index=False)"
   ]
  },
  {
   "cell_type": "markdown",
   "metadata": {},
   "source": [
    "# 2. Exploratory Visualization"
   ]
  },
  {
   "cell_type": "code",
   "execution_count": 12,
   "metadata": {},
   "outputs": [
    {
     "name": "stderr",
     "output_type": "stream",
     "text": [
      "/opt/conda/lib/python3.6/site-packages/sklearn/cross_validation.py:41: DeprecationWarning: This module was deprecated in version 0.18 in favor of the model_selection module into which all the refactored classes and functions are moved. Also note that the interface of the new CV iterators are different from that of this module. This module will be removed in 0.20.\n",
      "  \"This module will be removed in 0.20.\", DeprecationWarning)\n"
     ]
    }
   ],
   "source": [
    "from sklearn.cross_validation import train_test_split\n",
    "from sklearn.tree import DecisionTreeRegressor\n",
    "import seaborn as sns\n"
   ]
  },
  {
   "cell_type": "code",
   "execution_count": 13,
   "metadata": {},
   "outputs": [],
   "source": [
    "def calculate_regression_score(feature_name, new_data, target):\n",
    "    # Split data into training and testing sets (0.25) using the given feature as the target\n",
    "    # ... and set a random state\n",
    "    X_train, X_test, y_train, y_test = train_test_split(new_data, target, test_size=0.25, random_state=42)\n",
    "    \n",
    "    #Create a decision tree regressor and fit it to the training set\n",
    "    regressor = DecisionTreeRegressor(max_depth=5)\n",
    "    regressor.fit(X_train, y_train)\n",
    "    \n",
    "    score = regressor.score(X_test,y_test)\n",
    "    \n",
    "    print(\"{}'s regression score = {} \".format(feature_name, score))\n",
    "    return score"
   ]
  },
  {
   "cell_type": "markdown",
   "metadata": {},
   "source": [
    "## Examine feature relevance"
   ]
  },
  {
   "cell_type": "code",
   "execution_count": 14,
   "metadata": {},
   "outputs": [
    {
     "name": "stdout",
     "output_type": "stream",
     "text": [
      "CellID's regression score = 0.22067896413066124 \n",
      "countrycode's regression score = 0.06971020722242816 \n",
      "smsin's regression score = 0.9324580704698828 \n",
      "smsout's regression score = 0.8284548087506232 \n",
      "callin's regression score = 0.9608945970970592 \n",
      "callout's regression score = 0.9526242489143089 \n",
      "internet's regression score = 0.8112173117971802 \n"
     ]
    }
   ],
   "source": [
    "\n",
    "featurelist = ['CellID', 'countrycode', 'smsin', 'smsout', 'callin', 'callout', 'internet']\n",
    "scores = []\n",
    "for feature in featurelist:\n",
    "    new_data = main_dataset.drop([feature], axis = 1)\n",
    "    new_data = new_data.drop(['datetime'], axis=1) # not useful\n",
    "    #new_data = new_data.drop(['index'], axis=1) # not useful\\\n",
    "    target = main_dataset[feature]\n",
    "    \n",
    "    score = calculate_regression_score(feature, new_data, target)\n",
    "    scores.append(score)\n",
    "    \n",
    "    "
   ]
  },
  {
   "cell_type": "code",
   "execution_count": 15,
   "metadata": {},
   "outputs": [
    {
     "data": {
      "text/plain": [
       "[0.22067896413066124,\n",
       " 0.069710207222428155,\n",
       " 0.93245807046988283,\n",
       " 0.82845480875062316,\n",
       " 0.96089459709705916,\n",
       " 0.95262424891430886,\n",
       " 0.81121731179718015]"
      ]
     },
     "execution_count": 15,
     "metadata": {},
     "output_type": "execute_result"
    }
   ],
   "source": [
    "scores"
   ]
  },
  {
   "cell_type": "code",
   "execution_count": 16,
   "metadata": {},
   "outputs": [
    {
     "data": {
      "image/png": "[encoded data removed]",
      "text/plain": [
       "<matplotlib.figure.Figure at 0x7f404401ba58>"
      ]
     },
     "metadata": {
      "needs_background": "light"
     },
     "output_type": "display_data"
    }
   ],
   "source": [
    "# Plot Bar chart\n",
    "xfeatures=[\"CellID\", \"countrycode\", \"smsin\", \"smsout\", \"callin\", \"callout\", \"internet\"]\n",
    "x = np.arange(7)\n",
    "fig, ax = plt.subplots()\n",
    "plt.bar(x, scores)\n",
    "plt.xticks(x, xfeatures, rotation='vertical')\n",
    "plt.subplots_adjust(bottom=0.25)\n",
    "plt.xlabel('Features', fontsize=14)\n",
    "plt.ylabel('Regression Scores', fontsize=12)\n",
    "plt.show()\n"
   ]
  },
  {
   "cell_type": "markdown",
   "metadata": {},
   "source": [
    "## Feature Correlation Heatmap "
   ]
  },
  {
   "cell_type": "code",
   "execution_count": 17,
   "metadata": {},
   "outputs": [
    {
     "data": {
      "image/png": "[encoded data removed]",
      "text/plain": [
       "<matplotlib.figure.Figure at 0x7f404400e630>"
      ]
     },
     "metadata": {
      "needs_background": "light"
     },
     "output_type": "display_data"
    }
   ],
   "source": [
    "corr = sns.heatmap(main_dataset.corr(), annot=True);\n",
    "figure = corr.get_figure()    \n",
    "figure.savefig('images/dataset-correlation.png', dpi=400)"
   ]
  }
 ],
 "metadata": {
  "kernelspec": {
   "display_name": "Python 3",
   "language": "python",
   "name": "python3"
  },
  "language_info": {
   "codemirror_mode": {
    "name": "ipython",
    "version": 3
   },
   "file_extension": ".py",
   "mimetype": "text/x-python",
   "name": "python",
   "nbconvert_exporter": "python",
   "pygments_lexer": "ipython3",
   "version": "3.6.3"
  }
 },
 "nbformat": 4,
 "nbformat_minor": 2
}
