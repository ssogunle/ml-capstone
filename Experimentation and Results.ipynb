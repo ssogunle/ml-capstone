{
 "cells": [
  {
   "cell_type": "code",
   "execution_count": 1,
   "metadata": {},
   "outputs": [
    {
     "name": "stderr",
     "output_type": "stream",
     "text": [
      "Using TensorFlow backend.\n"
     ]
    }
   ],
   "source": [
    "#General\n",
    "import numpy as np\n",
    "import pandas as pd\n",
    "import matplotlib.pyplot as plt      \n",
    "%matplotlib inline\n",
    "\n",
    "#Sklearn tools\n",
    "from sklearn.model_selection import train_test_split\n",
    "from sklearn.linear_model import LogisticRegression\n",
    "from sklearn.metrics import confusion_matrix\n",
    "from sklearn.utils.multiclass import unique_labels\n",
    "from sklearn.metrics import roc_curve\n",
    "from sklearn.metrics import auc\n",
    "import pickle\n",
    "\n",
    "#Keras\n",
    "from keras.utils import np_utils\n",
    "from keras.layers import Dropout, Dense, Activation\n",
    "from keras.models import Sequential\n",
    "from keras import backend as K\n",
    "from keras.callbacks import ModelCheckpoint, EarlyStopping  \n",
    "from keras.utils.np_utils import to_categorical\n",
    "\n",
    "#import keras_metrics as km"
   ]
  },
  {
   "cell_type": "markdown",
   "metadata": {},
   "source": [
    "# 1. Load data"
   ]
  },
  {
   "cell_type": "code",
   "execution_count": 2,
   "metadata": {},
   "outputs": [],
   "source": [
    "data = pd.read_csv('data/original_data.csv')\n"
   ]
  },
  {
   "cell_type": "code",
   "execution_count": 3,
   "metadata": {},
   "outputs": [
    {
     "name": "stdout",
     "output_type": "stream",
     "text": [
      "Record length =  1142231\n"
     ]
    },
    {
     "data": {
      "text/html": [
       "<div>\n",
       "<style>\n",
       "    .dataframe thead tr:only-child th {\n",
       "        text-align: right;\n",
       "    }\n",
       "\n",
       "    .dataframe thead th {\n",
       "        text-align: left;\n",
       "    }\n",
       "\n",
       "    .dataframe tbody tr th {\n",
       "        vertical-align: top;\n",
       "    }\n",
       "</style>\n",
       "<table border=\"1\" class=\"dataframe\">\n",
       "  <thead>\n",
       "    <tr style=\"text-align: right;\">\n",
       "      <th></th>\n",
       "      <th>CellID</th>\n",
       "      <th>countrycode</th>\n",
       "      <th>smsin</th>\n",
       "      <th>smsout</th>\n",
       "      <th>callin</th>\n",
       "      <th>callout</th>\n",
       "      <th>internet</th>\n",
       "      <th>label</th>\n",
       "    </tr>\n",
       "  </thead>\n",
       "  <tbody>\n",
       "    <tr>\n",
       "      <th>0</th>\n",
       "      <td>1.0</td>\n",
       "      <td>39.0</td>\n",
       "      <td>1.7322</td>\n",
       "      <td>1.1047</td>\n",
       "      <td>0.5919</td>\n",
       "      <td>0.4020</td>\n",
       "      <td>57.7729</td>\n",
       "      <td>0</td>\n",
       "    </tr>\n",
       "    <tr>\n",
       "      <th>1</th>\n",
       "      <td>2.0</td>\n",
       "      <td>39.0</td>\n",
       "      <td>1.7334</td>\n",
       "      <td>1.0880</td>\n",
       "      <td>0.6020</td>\n",
       "      <td>0.4109</td>\n",
       "      <td>57.8875</td>\n",
       "      <td>0</td>\n",
       "    </tr>\n",
       "    <tr>\n",
       "      <th>2</th>\n",
       "      <td>3.0</td>\n",
       "      <td>39.0</td>\n",
       "      <td>1.7348</td>\n",
       "      <td>1.0701</td>\n",
       "      <td>0.6128</td>\n",
       "      <td>0.4203</td>\n",
       "      <td>58.0095</td>\n",
       "      <td>0</td>\n",
       "    </tr>\n",
       "    <tr>\n",
       "      <th>3</th>\n",
       "      <td>4.0</td>\n",
       "      <td>39.0</td>\n",
       "      <td>1.7284</td>\n",
       "      <td>1.1533</td>\n",
       "      <td>0.5627</td>\n",
       "      <td>0.3763</td>\n",
       "      <td>57.4408</td>\n",
       "      <td>0</td>\n",
       "    </tr>\n",
       "    <tr>\n",
       "      <th>4</th>\n",
       "      <td>5.0</td>\n",
       "      <td>39.0</td>\n",
       "      <td>1.5530</td>\n",
       "      <td>1.0439</td>\n",
       "      <td>0.5110</td>\n",
       "      <td>0.3503</td>\n",
       "      <td>52.1497</td>\n",
       "      <td>0</td>\n",
       "    </tr>\n",
       "  </tbody>\n",
       "</table>\n",
       "</div>"
      ],
      "text/plain": [
       "   CellID  countrycode   smsin  smsout  callin  callout  internet  label\n",
       "0     1.0         39.0  1.7322  1.1047  0.5919   0.4020   57.7729      0\n",
       "1     2.0         39.0  1.7334  1.0880  0.6020   0.4109   57.8875      0\n",
       "2     3.0         39.0  1.7348  1.0701  0.6128   0.4203   58.0095      0\n",
       "3     4.0         39.0  1.7284  1.1533  0.5627   0.3763   57.4408      0\n",
       "4     5.0         39.0  1.5530  1.0439  0.5110   0.3503   52.1497      0"
      ]
     },
     "execution_count": 3,
     "metadata": {},
     "output_type": "execute_result"
    }
   ],
   "source": [
    "print(\"Record length = \", len(data))\n",
    "data.head()\n"
   ]
  },
  {
   "cell_type": "markdown",
   "metadata": {},
   "source": [
    "# 2. Create training, validation and testing data"
   ]
  },
  {
   "cell_type": "markdown",
   "metadata": {},
   "source": [
    "### 2.1 Extract variables"
   ]
  },
  {
   "cell_type": "code",
   "execution_count": 4,
   "metadata": {},
   "outputs": [],
   "source": [
    "# Separate target (y) and independent variables (X)\n",
    "X = data.iloc[:,:7].values\n",
    "y = data.iloc[:, 7].values\n"
   ]
  },
  {
   "cell_type": "markdown",
   "metadata": {},
   "source": [
    "### 2.2 Split data into train and test set"
   ]
  },
  {
   "cell_type": "code",
   "execution_count": 5,
   "metadata": {},
   "outputs": [],
   "source": [
    "# Training-Testing Data\n",
    "X_train, X_test, y_train, y_test = train_test_split(X, y, test_size=0.2, random_state=42)\n",
    "\n"
   ]
  },
  {
   "cell_type": "markdown",
   "metadata": {},
   "source": [
    "### 2.3 Further split training set into training and validation sets"
   ]
  },
  {
   "cell_type": "code",
   "execution_count": 6,
   "metadata": {},
   "outputs": [],
   "source": [
    "### Split data into train and valid set\n",
    "X_train2, X_valid, y_train2, y_valid = train_test_split(X_train, y_train, test_size=0.25, random_state=42)\n"
   ]
  },
  {
   "cell_type": "markdown",
   "metadata": {},
   "source": [
    "# 3.Build Models"
   ]
  },
  {
   "cell_type": "markdown",
   "metadata": {},
   "source": [
    "- Create Benchmark and Hybrid Models"
   ]
  },
  {
   "cell_type": "markdown",
   "metadata": {},
   "source": [
    "## 3.1 Benchmark: Logistic Regression Model "
   ]
  },
  {
   "cell_type": "code",
   "execution_count": 7,
   "metadata": {},
   "outputs": [],
   "source": [
    "benchmark_classifier = LogisticRegression(random_state=0, \n",
    "                                          solver='lbfgs', multi_class='multinomial').fit(X_train, y_train)"
   ]
  },
  {
   "cell_type": "code",
   "execution_count": 8,
   "metadata": {},
   "outputs": [],
   "source": [
    "# Save Model\n",
    "filename = 'saved_models/benchmark_model.ckpt'\n",
    "pickle.dump(benchmark_classifier, open(filename, 'wb'))\n",
    "\n",
    "# load the model from disk\n",
    "#loaded_model = pickle.load(open(filename, 'rb'))"
   ]
  },
  {
   "cell_type": "markdown",
   "metadata": {},
   "source": [
    "## 3.2 Hybridized Model: Artificial Neural Network (ANN)"
   ]
  },
  {
   "cell_type": "markdown",
   "metadata": {},
   "source": [
    "### Construct ANN Classifier"
   ]
  },
  {
   "cell_type": "code",
   "execution_count": 9,
   "metadata": {},
   "outputs": [],
   "source": [
    "class FFClassifier:\n",
    "    ''' Class for ANN Classifier'''\n",
    "    \n",
    "    def __init__(self, train_data, valid_data,\n",
    "                 target_train, target_valid, \n",
    "                 num_classes, dropout=0.5):\n",
    "        '''Initialize dataset'''\n",
    "        \n",
    "        # Training/Validation Data\n",
    "        self.X_train = train_data\n",
    "        self.X_valid = valid_data\n",
    "        self.y_train = target_train\n",
    "        self.y_valid = target_valid\n",
    "                \n",
    "        # Encode target variables\n",
    "        self.y_train_cat = to_categorical(target_train)\n",
    "        self.y_valid_cat = to_categorical(target_valid)\n",
    "\n",
    "        self.num_classes = num_classes\n",
    "        self.dropout = dropout\n",
    "        self.model = None\n",
    "\n",
    "        \n",
    "    def create_model(self, _input_dim):\n",
    "        ''' Build simple ANN Model'''\n",
    "        \n",
    "        model = Sequential()\n",
    "        model.add(Dense(64, input_dim=_input_dim))\n",
    "        model.add(Activation('relu'))\n",
    "        model.add(Dropout(self.dropout))\n",
    "\n",
    "        model.add(Dense(32))\n",
    "        model.add(Activation('relu'))\n",
    "        model.add(Dropout(self.dropout))\n",
    "\n",
    "        model.add(Dense(self.num_classes))\n",
    "        model.add(Activation('softmax'))\n",
    "\n",
    "        model.summary()\n",
    "        self.model = model\n",
    "    \n",
    "        \n",
    "    def compile_model(self, _optimizer, _loss, _metrics):\n",
    "        ''' Set optimization and loss functions'''\n",
    "        #self.model.compile(optimizer='rmsprop', loss='categorical_crossentropy', metrics=['accuracy'])\n",
    "        self.model.compile(optimizer=_optimizer, \n",
    "                           loss=_loss, \n",
    "                           metrics= _metrics)\n",
    "        print(\"\\n\\nModel successfully compiled!\\n\\n\")\n",
    "    \n",
    "\n",
    "    def train_model(self, checkpoint_file, epochs=30):\n",
    "        ''' Train the model and save to checkpoint '''\n",
    "    \n",
    "        train_tensors = self.X_train \n",
    "        train_targets = self.y_train_cat\n",
    "        valid_tensors = self.X_valid\n",
    "        valid_targets = self.y_valid_cat\n",
    "        #print(train_tensors.shape, valid_tensors.shape, train_targets.shape, valid_targets.shape)\n",
    "\n",
    "        early_stopping = EarlyStopping(monitor='val_loss', patience=2)\n",
    "\n",
    "        checkpointer = ModelCheckpoint(filepath=checkpoint_file, \n",
    "                                       verbose=1, save_best_only=True)\n",
    "\n",
    "        self.model.fit(train_tensors, train_targets, \n",
    "                  validation_data=(valid_tensors, valid_targets),\n",
    "                  epochs=epochs, batch_size=64, callbacks=[checkpointer, early_stopping], verbose=1)\n",
    "\n",
    "        return self.model\n"
   ]
  },
  {
   "cell_type": "markdown",
   "metadata": {},
   "source": [
    "### Implement Classifier"
   ]
  },
  {
   "cell_type": "code",
   "execution_count": 10,
   "metadata": {},
   "outputs": [],
   "source": [
    "# Set Parameters\n",
    "_num_classes = 2\n",
    "_dropout = 0.2\n",
    "inp_dim = X_train2.shape[1]\n",
    "optimizer = 'Adam' \n",
    "loss = 'categorical_crossentropy'\n",
    "metrics = ['accuracy']\n",
    "checkpoint = 'saved_models/hybrid_model.ckpt'"
   ]
  },
  {
   "cell_type": "code",
   "execution_count": 11,
   "metadata": {},
   "outputs": [
    {
     "name": "stdout",
     "output_type": "stream",
     "text": [
      "_________________________________________________________________\n",
      "Layer (type)                 Output Shape              Param #   \n",
      "=================================================================\n",
      "dense_1 (Dense)              (None, 64)                512       \n",
      "_________________________________________________________________\n",
      "activation_1 (Activation)    (None, 64)                0         \n",
      "_________________________________________________________________\n",
      "dropout_1 (Dropout)          (None, 64)                0         \n",
      "_________________________________________________________________\n",
      "dense_2 (Dense)              (None, 32)                2080      \n",
      "_________________________________________________________________\n",
      "activation_2 (Activation)    (None, 32)                0         \n",
      "_________________________________________________________________\n",
      "dropout_2 (Dropout)          (None, 32)                0         \n",
      "_________________________________________________________________\n",
      "dense_3 (Dense)              (None, 2)                 66        \n",
      "_________________________________________________________________\n",
      "activation_3 (Activation)    (None, 2)                 0         \n",
      "=================================================================\n",
      "Total params: 2,658\n",
      "Trainable params: 2,658\n",
      "Non-trainable params: 0\n",
      "_________________________________________________________________\n",
      "\n",
      "\n",
      "Model successfully compiled!\n",
      "\n",
      "\n"
     ]
    }
   ],
   "source": [
    "# Create Model\n",
    "ffclassifier = FFClassifier(X_train2, X_valid, y_train2, y_valid, _num_classes, dropout=_dropout)\n",
    "ffclassifier.create_model(inp_dim)\n",
    "ffclassifier.compile_model(optimizer,loss,metrics)"
   ]
  },
  {
   "cell_type": "code",
   "execution_count": 12,
   "metadata": {},
   "outputs": [
    {
     "name": "stdout",
     "output_type": "stream",
     "text": [
      "Train on 685338 samples, validate on 228446 samples\n",
      "Epoch 1/30\n",
      "684800/685338 [============================>.] - ETA: 0s - loss: 4.5888 - acc: 0.7126Epoch 00001: val_loss improved from inf to 2.32011, saving model to saved_models/hybrid_model.ckpt\n",
      "685338/685338 [==============================] - 60s 87us/step - loss: 4.5870 - acc: 0.7128 - val_loss: 2.3201 - val_acc: 0.8528\n",
      "Epoch 2/30\n",
      "685184/685338 [============================>.] - ETA: 0s - loss: 0.3878 - acc: 0.9262Epoch 00002: val_loss improved from 2.32011 to 0.08635, saving model to saved_models/hybrid_model.ckpt\n",
      "685338/685338 [==============================] - 59s 87us/step - loss: 0.3877 - acc: 0.9262 - val_loss: 0.0864 - val_acc: 0.9657\n",
      "Epoch 3/30\n",
      "684736/685338 [============================>.] - ETA: 0s - loss: 0.1132 - acc: 0.9549Epoch 00003: val_loss did not improve\n",
      "685338/685338 [==============================] - 59s 86us/step - loss: 0.1132 - acc: 0.9549 - val_loss: 0.0975 - val_acc: 0.9576\n",
      "Epoch 4/30\n",
      "684800/685338 [============================>.] - ETA: 0s - loss: 0.1014 - acc: 0.9605Epoch 00004: val_loss improved from 0.08635 to 0.07747, saving model to saved_models/hybrid_model.ckpt\n",
      "685338/685338 [==============================] - 59s 86us/step - loss: 0.1014 - acc: 0.9605 - val_loss: 0.0775 - val_acc: 0.9692\n",
      "Epoch 5/30\n",
      "684800/685338 [============================>.] - ETA: 0s - loss: 0.0969 - acc: 0.9633Epoch 00005: val_loss did not improve\n",
      "685338/685338 [==============================] - 60s 87us/step - loss: 0.0969 - acc: 0.9633 - val_loss: 0.0815 - val_acc: 0.9682\n",
      "Epoch 6/30\n",
      "684736/685338 [============================>.] - ETA: 0s - loss: 0.0912 - acc: 0.9654Epoch 00006: val_loss improved from 0.07747 to 0.06291, saving model to saved_models/hybrid_model.ckpt\n",
      "685338/685338 [==============================] - 59s 87us/step - loss: 0.0912 - acc: 0.9654 - val_loss: 0.0629 - val_acc: 0.9755\n",
      "Epoch 7/30\n",
      "685312/685338 [============================>.] - ETA: 0s - loss: 0.0874 - acc: 0.9667Epoch 00007: val_loss did not improve\n",
      "685338/685338 [==============================] - 59s 86us/step - loss: 0.0874 - acc: 0.9667 - val_loss: 0.0633 - val_acc: 0.9744\n",
      "Epoch 8/30\n",
      "685312/685338 [============================>.] - ETA: 0s - loss: 0.0831 - acc: 0.9685Epoch 00008: val_loss improved from 0.06291 to 0.06151, saving model to saved_models/hybrid_model.ckpt\n",
      "685338/685338 [==============================] - 58s 85us/step - loss: 0.0831 - acc: 0.9685 - val_loss: 0.0615 - val_acc: 0.9760\n",
      "Epoch 9/30\n",
      "684672/685338 [============================>.] - ETA: 0s - loss: 0.0797 - acc: 0.9693Epoch 00009: val_loss improved from 0.06151 to 0.05047, saving model to saved_models/hybrid_model.ckpt\n",
      "685338/685338 [==============================] - 59s 86us/step - loss: 0.0797 - acc: 0.9693 - val_loss: 0.0505 - val_acc: 0.9815\n",
      "Epoch 10/30\n",
      "685120/685338 [============================>.] - ETA: 0s - loss: 0.0798 - acc: 0.9695Epoch 00010: val_loss did not improve\n",
      "685338/685338 [==============================] - 59s 87us/step - loss: 0.0798 - acc: 0.9695 - val_loss: 0.0859 - val_acc: 0.9578\n",
      "Epoch 11/30\n",
      "684800/685338 [============================>.] - ETA: 0s - loss: 0.0776 - acc: 0.9704Epoch 00011: val_loss did not improve\n",
      "685338/685338 [==============================] - 59s 86us/step - loss: 0.0776 - acc: 0.9704 - val_loss: 0.0629 - val_acc: 0.9735\n"
     ]
    },
    {
     "data": {
      "text/plain": [
       "<keras.models.Sequential at 0x7fa6fe7f5748>"
      ]
     },
     "execution_count": 12,
     "metadata": {},
     "output_type": "execute_result"
    }
   ],
   "source": [
    "# Train Model\n",
    "ffclassifier.train_model(checkpoint)"
   ]
  },
  {
   "cell_type": "markdown",
   "metadata": {},
   "source": [
    "# 4.  Evaluation: Confusion Matrix Analysis"
   ]
  },
  {
   "cell_type": "markdown",
   "metadata": {},
   "source": [
    "## 4.1 Construct Plot"
   ]
  },
  {
   "cell_type": "code",
   "execution_count": 14,
   "metadata": {},
   "outputs": [],
   "source": [
    "def plot_confusion_matrix(y_true, y_pred, classes,\n",
    "                          normalize=False,\n",
    "                          title=None,\n",
    "                          cmap=plt.cm.Blues):\n",
    "    \"\"\"\n",
    "    This function prints and plots the confusion matrix.\n",
    "    Normalization can be applied by setting `normalize=True`.\n",
    "    Code from: https://scikit-learn.org/stable/auto_examples/model_selection/plot_confusion_matrix.html\n",
    "    \"\"\"\n",
    "    if not title:\n",
    "        if normalize:\n",
    "            title = 'Normalized confusion matrix'\n",
    "        else:\n",
    "            title = 'Confusion matrix, without normalization'\n",
    "\n",
    "    # Compute confusion matrix\n",
    "    cm = confusion_matrix(y_true, y_pred)\n",
    "    # Only use the labels that appear in the data\n",
    "    classes = classes[unique_labels(y_true, y_pred)]\n",
    "    if normalize:\n",
    "        cm = cm.astype('float') / cm.sum(axis=1)[:, np.newaxis]\n",
    "        print(\"Normalized confusion matrix\")\n",
    "    else:\n",
    "        print('Confusion matrix, without normalization')\n",
    "\n",
    "    print(cm)\n",
    "\n",
    "    fig, ax = plt.subplots()\n",
    "    im = ax.imshow(cm, interpolation='nearest', cmap=cmap)\n",
    "    ax.figure.colorbar(im, ax=ax)\n",
    "    # We want to show all ticks...\n",
    "    ax.set(xticks=np.arange(cm.shape[1]),\n",
    "           yticks=np.arange(cm.shape[0]),\n",
    "           # ... and label them with the respective list entries\n",
    "           xticklabels=classes, yticklabels=classes,\n",
    "           title=title,\n",
    "           ylabel='True label',\n",
    "           xlabel='Predicted label')\n",
    "\n",
    "    # Rotate the tick labels and set their alignment.\n",
    "    plt.setp(ax.get_xticklabels(), rotation=45, ha=\"right\",\n",
    "             rotation_mode=\"anchor\")\n",
    "\n",
    "    # Loop over data dimensions and create text annotations.\n",
    "    fmt = '.2f' if normalize else 'd'\n",
    "    thresh = cm.max() / 2.\n",
    "    for i in range(cm.shape[0]):\n",
    "        for j in range(cm.shape[1]):\n",
    "            ax.text(j, i, format(cm[i, j], fmt),\n",
    "                    ha=\"center\", va=\"center\",\n",
    "                    color=\"white\" if cm[i, j] > thresh else \"black\")\n",
    "    fig.tight_layout()\n",
    "    return ax, cm"
   ]
  },
  {
   "cell_type": "markdown",
   "metadata": {},
   "source": [
    "## 4.2 Display Plots"
   ]
  },
  {
   "cell_type": "markdown",
   "metadata": {},
   "source": [
    "### Confusion Matrix for Benchmark Model"
   ]
  },
  {
   "cell_type": "code",
   "execution_count": 15,
   "metadata": {},
   "outputs": [
    {
     "name": "stdout",
     "output_type": "stream",
     "text": [
      "Confusion matrix, without normalization\n",
      "[[105616   7853]\n",
      " [ 14218 100760]]\n"
     ]
    },
    {
     "data": {
      "image/png": "[encoded data removed]",
      "text/plain": [
       "<matplotlib.figure.Figure at 0x7fa6f4e94c50>"
      ]
     },
     "metadata": {
      "needs_background": "light"
     },
     "output_type": "display_data"
    }
   ],
   "source": [
    "benchmark_preds = benchmark_classifier.predict(X_test) \n",
    "\n",
    "_, cm_benchmark = plot_confusion_matrix(y_test, benchmark_preds, classes=y_test, \n",
    "                                        title=\"Confusion Matrix for Benchmark Model\")"
   ]
  },
  {
   "cell_type": "markdown",
   "metadata": {},
   "source": [
    "From the Matrix Above:\n",
    "\n",
    "- True Positive (TP) = 105616\n",
    "- False Positive (FP) = 14218\n",
    "- True Negative (TN) =  100760\n",
    "- False Negative (FN) =  7853"
   ]
  },
  {
   "cell_type": "markdown",
   "metadata": {},
   "source": [
    "### Confusion Matrix for Hybrid Model"
   ]
  },
  {
   "cell_type": "code",
   "execution_count": 20,
   "metadata": {},
   "outputs": [],
   "source": [
    "_preds = ffclassifier.model.predict(X_test) \n",
    "hybrid_preds = np.argmax(_preds, axis=1)\n"
   ]
  },
  {
   "cell_type": "code",
   "execution_count": 22,
   "metadata": {},
   "outputs": [
    {
     "name": "stdout",
     "output_type": "stream",
     "text": [
      "Confusion matrix, without normalization\n",
      "[[112489    980]\n",
      " [  4954 110024]]\n"
     ]
    },
    {
     "data": {
      "image/png": "[encoded data removed]",
      "text/plain": [
       "<matplotlib.figure.Figure at 0x7fa6f4e72710>"
      ]
     },
     "metadata": {
      "needs_background": "light"
     },
     "output_type": "display_data"
    }
   ],
   "source": [
    "_, cm_hybrid = plot_confusion_matrix(y_test, hybrid_preds, classes=y_test, \n",
    "                                        title=\"Confusion Matrix for Hybrid Model\")"
   ]
  },
  {
   "cell_type": "markdown",
   "metadata": {},
   "source": [
    "From the Matrix Above:\n",
    "\n",
    "- True Positive (TP) = 112489\n",
    "- False Positive (FP) = 4954\n",
    "- True Negative (TN) =  110024\n",
    "- False Negative (FN) =  980"
   ]
  },
  {
   "cell_type": "markdown",
   "metadata": {},
   "source": [
    "## 4.3 Define Metrics"
   ]
  },
  {
   "cell_type": "code",
   "execution_count": 23,
   "metadata": {},
   "outputs": [],
   "source": [
    "class EvalMetrics:\n",
    "    def __init__(self, tp, fp, tn, fn):\n",
    "        ''' Initialize Confusion Matrix Values'''\n",
    "        self.tp = tp\n",
    "        self.fp = fp\n",
    "        self.tn = tn\n",
    "        self.fn = fn\n",
    "        \n",
    "    def get_accuracy(self):\n",
    "        return (self.tp + self.tn) / (self.tp + self.fp + self.fn + self.tn)\n",
    "    \n",
    "    def get_precision(self):\n",
    "        return self.tp / (self.tp + self.fp)\n",
    "\n",
    "    def get_recall(self):\n",
    "        return self.tp / (self.tp + self.fn)\n",
    "\n",
    "    def get_f1_score(self):\n",
    "        ''' Weighted average of Precision and Recall'''\n",
    "        \n",
    "        precision = self.get_precision()\n",
    "        recall = self.get_recall()\n",
    "        \n",
    "        return (2*precision*recall) / (precision+recall)\n"
   ]
  },
  {
   "cell_type": "markdown",
   "metadata": {},
   "source": [
    "## 4.4 Compute Metrics"
   ]
  },
  {
   "cell_type": "markdown",
   "metadata": {},
   "source": [
    "### Benchmark Model"
   ]
  },
  {
   "cell_type": "code",
   "execution_count": 27,
   "metadata": {},
   "outputs": [
    {
     "name": "stdout",
     "output_type": "stream",
     "text": [
      "Accuracy = 90.34%\n",
      "Precision = 88.14%\n",
      "Recall = 93.08%\n",
      "F1-Score = 90.54%\n",
      "\n"
     ]
    }
   ],
   "source": [
    "benchmark_metrics = EvalMetrics(105616, 14218, 100760, 7853)\n",
    "\n",
    "print(\"Accuracy = {:.2f}%\\nPrecision = {:.2f}%\\nRecall = {:.2f}%\\nF1-Score = {:.2f}%\\n\".format(100*benchmark_metrics.get_accuracy(),\n",
    "                                                                          100*benchmark_metrics.get_precision(),\n",
    "                                                                          100*benchmark_metrics.get_recall(),\n",
    "                                                                          100*benchmark_metrics.get_f1_score()))\n"
   ]
  },
  {
   "cell_type": "markdown",
   "metadata": {},
   "source": [
    "### Hybrid Model"
   ]
  },
  {
   "cell_type": "code",
   "execution_count": 29,
   "metadata": {},
   "outputs": [
    {
     "name": "stdout",
     "output_type": "stream",
     "text": [
      "Accuracy = 97.40%\n",
      "Precision = 95.78%\n",
      "Recall = 99.14%\n",
      "F1-Score = 97.43%\n",
      "\n"
     ]
    }
   ],
   "source": [
    "hybrid_metrics = EvalMetrics(112489, 4954, 110024, 980)\n",
    "\n",
    "print(\"Accuracy = {:.2f}%\\nPrecision = {:.2f}%\\nRecall = {:.2f}%\\nF1-Score = {:.2f}%\\n\".format(100*hybrid_metrics.get_accuracy(),\n",
    "                                                                          100*hybrid_metrics.get_precision(),\n",
    "                                                                          100*hybrid_metrics.get_recall(),\n",
    "                                                                          100*hybrid_metrics.get_f1_score()))\n"
   ]
  },
  {
   "cell_type": "markdown",
   "metadata": {},
   "source": [
    "## 4.5 Further Evaluation with ROC Curve"
   ]
  },
  {
   "cell_type": "markdown",
   "metadata": {},
   "source": [
    "### Benchmark Model"
   ]
  },
  {
   "cell_type": "code",
   "execution_count": 32,
   "metadata": {},
   "outputs": [],
   "source": [
    "# ROC\n",
    "benchmark_fpr, benchmark_tpr, benchmark_thresholds = roc_curve(y_test, benchmark_preds, pos_label=1)\n",
    "\n",
    "# AUC\n",
    "auc_benchmark = auc(benchmark_fpr, benchmark_tpr)"
   ]
  },
  {
   "cell_type": "markdown",
   "metadata": {},
   "source": [
    "### Hybrid Model"
   ]
  },
  {
   "cell_type": "code",
   "execution_count": 33,
   "metadata": {},
   "outputs": [],
   "source": [
    "# ROC\n",
    "hybrid_fpr, hybrid_tpr, hybrid_thresholds = roc_curve(y_test, hybrid_preds, pos_label=1)\n",
    "\n",
    "# AUC\n",
    "auc_hybrid = auc(hybrid_fpr, hybrid_tpr)"
   ]
  },
  {
   "cell_type": "markdown",
   "metadata": {},
   "source": [
    "### Display ROC"
   ]
  },
  {
   "cell_type": "code",
   "execution_count": 34,
   "metadata": {},
   "outputs": [],
   "source": [
    "def plot_roc_curve(tpr_hybrid, fpr_hybrid, tpr_benchmark, fpr_benchmark, auc_hybrid, auc_benchmark):\n",
    "    ''' \n",
    "        Source code adapted from: \n",
    "        https://hackernoon.com/simple-guide-on-how-to-generate-roc-plot-for-keras-classifier-2ecc6c73115a\n",
    "    '''\n",
    "    plt.figure(1)\n",
    "    plt.plot([0, 1], [0, 1], 'k--')\n",
    "    plt.plot(fpr_hybrid, tpr_hybrid, label='Hybrid Model (area = {:.3f})'.format(auc_hybrid))\n",
    "    plt.plot(fpr_benchmark, tpr_benchmark, label='Benchmark Model (area = {:.3f})'.format(auc_benchmark))\n",
    "    plt.xlabel('False positive rate')\n",
    "    plt.ylabel('True positive rate')\n",
    "    plt.title('ROC curve')\n",
    "    plt.legend(loc='best')\n",
    "    plt.show()\n",
    "    \n",
    "    # Zoom in view of the upper left corner.\n",
    "    plt.figure(2)\n",
    "    plt.xlim(0, 0.2)\n",
    "    plt.ylim(0.8, 1)\n",
    "    plt.plot([0, 1], [0, 1], 'k--')\n",
    "    plt.plot(fpr_hybrid, tpr_hybrid, label='Hybrid Model (area = {:.3f})'.format(auc_hybrid))\n",
    "    plt.plot(fpr_benchmark, tpr_benchmark, label='Benchmark Model (area = {:.3f})'.format(auc_benchmark))\n",
    "    plt.xlabel('False positive rate')\n",
    "    plt.ylabel('True positive rate')\n",
    "    plt.title('ROC curve (zoomed in at top left)')\n",
    "    plt.legend(loc='best')\n",
    "    plt.show()"
   ]
  },
  {
   "cell_type": "code",
   "execution_count": 35,
   "metadata": {},
   "outputs": [
    {
     "data": {
      "image/png": "[encoded data removed]",
      "text/plain": [
       "<matplotlib.figure.Figure at 0x7fa6f4e06160>"
      ]
     },
     "metadata": {
      "needs_background": "light"
     },
     "output_type": "display_data"
    },
    {
     "data": {
      "image/png": "[encoded data removed]",
      "text/plain": [
       "<matplotlib.figure.Figure at 0x7fa6f4dbf748>"
      ]
     },
     "metadata": {
      "needs_background": "light"
     },
     "output_type": "display_data"
    }
   ],
   "source": [
    "plot_roc_curve(hybrid_tpr, hybrid_fpr, benchmark_tpr, benchmark_fpr, auc_hybrid, auc_benchmark)"
   ]
  }
 ],
 "metadata": {
  "kernelspec": {
   "display_name": "Python 3",
   "language": "python",
   "name": "python3"
  },
  "language_info": {
   "codemirror_mode": {
    "name": "ipython",
    "version": 3
   },
   "file_extension": ".py",
   "mimetype": "text/x-python",
   "name": "python",
   "nbconvert_exporter": "python",
   "pygments_lexer": "ipython3",
   "version": "3.6.3"
  }
 },
 "nbformat": 4,
 "nbformat_minor": 2
}
